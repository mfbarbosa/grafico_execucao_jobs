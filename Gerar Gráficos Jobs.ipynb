{
 "cells": [
  {
   "cell_type": "markdown",
   "metadata": {},
   "source": [
    "## Instalar requirements"
   ]
  },
  {
   "cell_type": "code",
   "execution_count": null,
   "metadata": {},
   "outputs": [],
   "source": [
    "!pip install -r requirements.txt"
   ]
  },
  {
   "cell_type": "markdown",
   "metadata": {},
   "source": [
    "## Gerar e exportar gráfico"
   ]
  },
  {
   "cell_type": "code",
   "execution_count": 2,
   "metadata": {},
   "outputs": [
    {
     "data": {
      "application/vnd.plotly.v1+json": {
       "config": {
        "plotlyServerURL": "https://plot.ly"
       },
       "data": [
        {
         "alignmentgroup": "True",
         "base": [
          "2024-11-08T05:30:00",
          "2024-11-08T08:30:00",
          "2024-11-08T10:30:00",
          "2024-11-08T06:00:00",
          "2024-11-08T12:10:00",
          "2024-11-08T16:00:00",
          "2024-11-08T06:30:00",
          "2024-11-08T06:30:00",
          "2024-11-08T11:00:00",
          "2024-11-08T07:30:00",
          "2024-11-08T15:30:00",
          "2024-11-08T09:00:00",
          "2024-11-08T12:30:00"
         ],
         "hovertemplate": "status=success<br>Hora de Início=%{base}<br>Hora de Término=%{x}<br>Nome do Job=%{y}<extra></extra>",
         "legendgroup": "success",
         "marker": {
          "color": "#4A628A",
          "pattern": {
           "shape": ""
          }
         },
         "name": "success",
         "offsetgroup": "success",
         "orientation": "h",
         "showlegend": true,
         "textposition": "auto",
         "type": "bar",
         "width": 0.4,
         "x": [
          600000,
          900000,
          1200000,
          2400000,
          3300000,
          3000000,
          2100000,
          3840000,
          2880000,
          1200000,
          1500000,
          3600000,
          3000000
         ],
         "xaxis": "x",
         "y": [
          "Fluxo de Caixa",
          "Fluxo de Caixa",
          "Fluxo de Caixa",
          "Relatório Financeiro",
          "Relatório Financeiro",
          "Relatório Financeiro",
          "Gerenciamento de Estoque",
          "Resultado de Campanhas",
          "Monitoramento Metas",
          "Análise de Vendas",
          "Análise de Vendas",
          "Auditoria Interna",
          "Backup Bases"
         ],
         "yaxis": "y"
        },
        {
         "alignmentgroup": "True",
         "base": [
          "2024-11-08T12:00:00",
          "2024-11-08T16:00:00"
         ],
         "hovertemplate": "status=failed<br>Hora de Início=%{base}<br>Hora de Término=%{x}<br>Nome do Job=%{y}<extra></extra>",
         "legendgroup": "failed",
         "marker": {
          "color": "#F95454",
          "pattern": {
           "shape": ""
          }
         },
         "name": "failed",
         "offsetgroup": "failed",
         "orientation": "h",
         "showlegend": true,
         "textposition": "auto",
         "type": "bar",
         "width": 0.4,
         "x": [
          600000,
          1800000
         ],
         "xaxis": "x",
         "y": [
          "Relatório Financeiro",
          "Backup Bases"
         ],
         "yaxis": "y"
        },
        {
         "marker": {
          "color": "#1A1A1D",
          "size": 12,
          "symbol": "diamond"
         },
         "mode": "markers",
         "name": "success",
         "showlegend": false,
         "type": "scatter",
         "x": [
          "2024-11-08T05:30:00",
          "2024-11-08T08:30:00",
          "2024-11-08T10:30:00",
          "2024-11-08T06:00:00",
          "2024-11-08T12:10:00",
          "2024-11-08T16:00:00",
          "2024-11-08T06:30:00",
          "2024-11-08T06:30:00",
          "2024-11-08T11:00:00",
          "2024-11-08T07:30:00",
          "2024-11-08T15:30:00",
          "2024-11-08T09:00:00",
          "2024-11-08T12:30:00"
         ],
         "y": [
          "Fluxo de Caixa",
          "Fluxo de Caixa",
          "Fluxo de Caixa",
          "Relatório Financeiro",
          "Relatório Financeiro",
          "Relatório Financeiro",
          "Gerenciamento de Estoque",
          "Resultado de Campanhas",
          "Monitoramento Metas",
          "Análise de Vendas",
          "Análise de Vendas",
          "Auditoria Interna",
          "Backup Bases"
         ]
        },
        {
         "marker": {
          "color": "#C62E2E",
          "size": 12,
          "symbol": "diamond"
         },
         "mode": "markers",
         "name": "failed",
         "showlegend": false,
         "type": "scatter",
         "x": [
          "2024-11-08T12:00:00",
          "2024-11-08T16:00:00"
         ],
         "y": [
          "Relatório Financeiro",
          "Backup Bases"
         ]
        }
       ],
       "layout": {
        "barmode": "overlay",
        "height": 500,
        "legend": {
         "title": {
          "text": "status"
         },
         "tracegroupgap": 0
        },
        "paper_bgcolor": "#F5F5F7",
        "plot_bgcolor": "#FAFAFA",
        "template": {
         "data": {
          "bar": [
           {
            "error_x": {
             "color": "#2a3f5f"
            },
            "error_y": {
             "color": "#2a3f5f"
            },
            "marker": {
             "line": {
              "color": "#E5ECF6",
              "width": 0.5
             },
             "pattern": {
              "fillmode": "overlay",
              "size": 10,
              "solidity": 0.2
             }
            },
            "type": "bar"
           }
          ],
          "barpolar": [
           {
            "marker": {
             "line": {
              "color": "#E5ECF6",
              "width": 0.5
             },
             "pattern": {
              "fillmode": "overlay",
              "size": 10,
              "solidity": 0.2
             }
            },
            "type": "barpolar"
           }
          ],
          "carpet": [
           {
            "aaxis": {
             "endlinecolor": "#2a3f5f",
             "gridcolor": "white",
             "linecolor": "white",
             "minorgridcolor": "white",
             "startlinecolor": "#2a3f5f"
            },
            "baxis": {
             "endlinecolor": "#2a3f5f",
             "gridcolor": "white",
             "linecolor": "white",
             "minorgridcolor": "white",
             "startlinecolor": "#2a3f5f"
            },
            "type": "carpet"
           }
          ],
          "choropleth": [
           {
            "colorbar": {
             "outlinewidth": 0,
             "ticks": ""
            },
            "type": "choropleth"
           }
          ],
          "contour": [
           {
            "colorbar": {
             "outlinewidth": 0,
             "ticks": ""
            },
            "colorscale": [
             [
              0,
              "#0d0887"
             ],
             [
              0.1111111111111111,
              "#46039f"
             ],
             [
              0.2222222222222222,
              "#7201a8"
             ],
             [
              0.3333333333333333,
              "#9c179e"
             ],
             [
              0.4444444444444444,
              "#bd3786"
             ],
             [
              0.5555555555555556,
              "#d8576b"
             ],
             [
              0.6666666666666666,
              "#ed7953"
             ],
             [
              0.7777777777777778,
              "#fb9f3a"
             ],
             [
              0.8888888888888888,
              "#fdca26"
             ],
             [
              1,
              "#f0f921"
             ]
            ],
            "type": "contour"
           }
          ],
          "contourcarpet": [
           {
            "colorbar": {
             "outlinewidth": 0,
             "ticks": ""
            },
            "type": "contourcarpet"
           }
          ],
          "heatmap": [
           {
            "colorbar": {
             "outlinewidth": 0,
             "ticks": ""
            },
            "colorscale": [
             [
              0,
              "#0d0887"
             ],
             [
              0.1111111111111111,
              "#46039f"
             ],
             [
              0.2222222222222222,
              "#7201a8"
             ],
             [
              0.3333333333333333,
              "#9c179e"
             ],
             [
              0.4444444444444444,
              "#bd3786"
             ],
             [
              0.5555555555555556,
              "#d8576b"
             ],
             [
              0.6666666666666666,
              "#ed7953"
             ],
             [
              0.7777777777777778,
              "#fb9f3a"
             ],
             [
              0.8888888888888888,
              "#fdca26"
             ],
             [
              1,
              "#f0f921"
             ]
            ],
            "type": "heatmap"
           }
          ],
          "heatmapgl": [
           {
            "colorbar": {
             "outlinewidth": 0,
             "ticks": ""
            },
            "colorscale": [
             [
              0,
              "#0d0887"
             ],
             [
              0.1111111111111111,
              "#46039f"
             ],
             [
              0.2222222222222222,
              "#7201a8"
             ],
             [
              0.3333333333333333,
              "#9c179e"
             ],
             [
              0.4444444444444444,
              "#bd3786"
             ],
             [
              0.5555555555555556,
              "#d8576b"
             ],
             [
              0.6666666666666666,
              "#ed7953"
             ],
             [
              0.7777777777777778,
              "#fb9f3a"
             ],
             [
              0.8888888888888888,
              "#fdca26"
             ],
             [
              1,
              "#f0f921"
             ]
            ],
            "type": "heatmapgl"
           }
          ],
          "histogram": [
           {
            "marker": {
             "pattern": {
              "fillmode": "overlay",
              "size": 10,
              "solidity": 0.2
             }
            },
            "type": "histogram"
           }
          ],
          "histogram2d": [
           {
            "colorbar": {
             "outlinewidth": 0,
             "ticks": ""
            },
            "colorscale": [
             [
              0,
              "#0d0887"
             ],
             [
              0.1111111111111111,
              "#46039f"
             ],
             [
              0.2222222222222222,
              "#7201a8"
             ],
             [
              0.3333333333333333,
              "#9c179e"
             ],
             [
              0.4444444444444444,
              "#bd3786"
             ],
             [
              0.5555555555555556,
              "#d8576b"
             ],
             [
              0.6666666666666666,
              "#ed7953"
             ],
             [
              0.7777777777777778,
              "#fb9f3a"
             ],
             [
              0.8888888888888888,
              "#fdca26"
             ],
             [
              1,
              "#f0f921"
             ]
            ],
            "type": "histogram2d"
           }
          ],
          "histogram2dcontour": [
           {
            "colorbar": {
             "outlinewidth": 0,
             "ticks": ""
            },
            "colorscale": [
             [
              0,
              "#0d0887"
             ],
             [
              0.1111111111111111,
              "#46039f"
             ],
             [
              0.2222222222222222,
              "#7201a8"
             ],
             [
              0.3333333333333333,
              "#9c179e"
             ],
             [
              0.4444444444444444,
              "#bd3786"
             ],
             [
              0.5555555555555556,
              "#d8576b"
             ],
             [
              0.6666666666666666,
              "#ed7953"
             ],
             [
              0.7777777777777778,
              "#fb9f3a"
             ],
             [
              0.8888888888888888,
              "#fdca26"
             ],
             [
              1,
              "#f0f921"
             ]
            ],
            "type": "histogram2dcontour"
           }
          ],
          "mesh3d": [
           {
            "colorbar": {
             "outlinewidth": 0,
             "ticks": ""
            },
            "type": "mesh3d"
           }
          ],
          "parcoords": [
           {
            "line": {
             "colorbar": {
              "outlinewidth": 0,
              "ticks": ""
             }
            },
            "type": "parcoords"
           }
          ],
          "pie": [
           {
            "automargin": true,
            "type": "pie"
           }
          ],
          "scatter": [
           {
            "fillpattern": {
             "fillmode": "overlay",
             "size": 10,
             "solidity": 0.2
            },
            "type": "scatter"
           }
          ],
          "scatter3d": [
           {
            "line": {
             "colorbar": {
              "outlinewidth": 0,
              "ticks": ""
             }
            },
            "marker": {
             "colorbar": {
              "outlinewidth": 0,
              "ticks": ""
             }
            },
            "type": "scatter3d"
           }
          ],
          "scattercarpet": [
           {
            "marker": {
             "colorbar": {
              "outlinewidth": 0,
              "ticks": ""
             }
            },
            "type": "scattercarpet"
           }
          ],
          "scattergeo": [
           {
            "marker": {
             "colorbar": {
              "outlinewidth": 0,
              "ticks": ""
             }
            },
            "type": "scattergeo"
           }
          ],
          "scattergl": [
           {
            "marker": {
             "colorbar": {
              "outlinewidth": 0,
              "ticks": ""
             }
            },
            "type": "scattergl"
           }
          ],
          "scattermapbox": [
           {
            "marker": {
             "colorbar": {
              "outlinewidth": 0,
              "ticks": ""
             }
            },
            "type": "scattermapbox"
           }
          ],
          "scatterpolar": [
           {
            "marker": {
             "colorbar": {
              "outlinewidth": 0,
              "ticks": ""
             }
            },
            "type": "scatterpolar"
           }
          ],
          "scatterpolargl": [
           {
            "marker": {
             "colorbar": {
              "outlinewidth": 0,
              "ticks": ""
             }
            },
            "type": "scatterpolargl"
           }
          ],
          "scatterternary": [
           {
            "marker": {
             "colorbar": {
              "outlinewidth": 0,
              "ticks": ""
             }
            },
            "type": "scatterternary"
           }
          ],
          "surface": [
           {
            "colorbar": {
             "outlinewidth": 0,
             "ticks": ""
            },
            "colorscale": [
             [
              0,
              "#0d0887"
             ],
             [
              0.1111111111111111,
              "#46039f"
             ],
             [
              0.2222222222222222,
              "#7201a8"
             ],
             [
              0.3333333333333333,
              "#9c179e"
             ],
             [
              0.4444444444444444,
              "#bd3786"
             ],
             [
              0.5555555555555556,
              "#d8576b"
             ],
             [
              0.6666666666666666,
              "#ed7953"
             ],
             [
              0.7777777777777778,
              "#fb9f3a"
             ],
             [
              0.8888888888888888,
              "#fdca26"
             ],
             [
              1,
              "#f0f921"
             ]
            ],
            "type": "surface"
           }
          ],
          "table": [
           {
            "cells": {
             "fill": {
              "color": "#EBF0F8"
             },
             "line": {
              "color": "white"
             }
            },
            "header": {
             "fill": {
              "color": "#C8D4E3"
             },
             "line": {
              "color": "white"
             }
            },
            "type": "table"
           }
          ]
         },
         "layout": {
          "annotationdefaults": {
           "arrowcolor": "#2a3f5f",
           "arrowhead": 0,
           "arrowwidth": 1
          },
          "autotypenumbers": "strict",
          "coloraxis": {
           "colorbar": {
            "outlinewidth": 0,
            "ticks": ""
           }
          },
          "colorscale": {
           "diverging": [
            [
             0,
             "#8e0152"
            ],
            [
             0.1,
             "#c51b7d"
            ],
            [
             0.2,
             "#de77ae"
            ],
            [
             0.3,
             "#f1b6da"
            ],
            [
             0.4,
             "#fde0ef"
            ],
            [
             0.5,
             "#f7f7f7"
            ],
            [
             0.6,
             "#e6f5d0"
            ],
            [
             0.7,
             "#b8e186"
            ],
            [
             0.8,
             "#7fbc41"
            ],
            [
             0.9,
             "#4d9221"
            ],
            [
             1,
             "#276419"
            ]
           ],
           "sequential": [
            [
             0,
             "#0d0887"
            ],
            [
             0.1111111111111111,
             "#46039f"
            ],
            [
             0.2222222222222222,
             "#7201a8"
            ],
            [
             0.3333333333333333,
             "#9c179e"
            ],
            [
             0.4444444444444444,
             "#bd3786"
            ],
            [
             0.5555555555555556,
             "#d8576b"
            ],
            [
             0.6666666666666666,
             "#ed7953"
            ],
            [
             0.7777777777777778,
             "#fb9f3a"
            ],
            [
             0.8888888888888888,
             "#fdca26"
            ],
            [
             1,
             "#f0f921"
            ]
           ],
           "sequentialminus": [
            [
             0,
             "#0d0887"
            ],
            [
             0.1111111111111111,
             "#46039f"
            ],
            [
             0.2222222222222222,
             "#7201a8"
            ],
            [
             0.3333333333333333,
             "#9c179e"
            ],
            [
             0.4444444444444444,
             "#bd3786"
            ],
            [
             0.5555555555555556,
             "#d8576b"
            ],
            [
             0.6666666666666666,
             "#ed7953"
            ],
            [
             0.7777777777777778,
             "#fb9f3a"
            ],
            [
             0.8888888888888888,
             "#fdca26"
            ],
            [
             1,
             "#f0f921"
            ]
           ]
          },
          "colorway": [
           "#636efa",
           "#EF553B",
           "#00cc96",
           "#ab63fa",
           "#FFA15A",
           "#19d3f3",
           "#FF6692",
           "#B6E880",
           "#FF97FF",
           "#FECB52"
          ],
          "font": {
           "color": "#2a3f5f"
          },
          "geo": {
           "bgcolor": "white",
           "lakecolor": "white",
           "landcolor": "#E5ECF6",
           "showlakes": true,
           "showland": true,
           "subunitcolor": "white"
          },
          "hoverlabel": {
           "align": "left"
          },
          "hovermode": "closest",
          "mapbox": {
           "style": "light"
          },
          "paper_bgcolor": "white",
          "plot_bgcolor": "#E5ECF6",
          "polar": {
           "angularaxis": {
            "gridcolor": "white",
            "linecolor": "white",
            "ticks": ""
           },
           "bgcolor": "#E5ECF6",
           "radialaxis": {
            "gridcolor": "white",
            "linecolor": "white",
            "ticks": ""
           }
          },
          "scene": {
           "xaxis": {
            "backgroundcolor": "#E5ECF6",
            "gridcolor": "white",
            "gridwidth": 2,
            "linecolor": "white",
            "showbackground": true,
            "ticks": "",
            "zerolinecolor": "white"
           },
           "yaxis": {
            "backgroundcolor": "#E5ECF6",
            "gridcolor": "white",
            "gridwidth": 2,
            "linecolor": "white",
            "showbackground": true,
            "ticks": "",
            "zerolinecolor": "white"
           },
           "zaxis": {
            "backgroundcolor": "#E5ECF6",
            "gridcolor": "white",
            "gridwidth": 2,
            "linecolor": "white",
            "showbackground": true,
            "ticks": "",
            "zerolinecolor": "white"
           }
          },
          "shapedefaults": {
           "line": {
            "color": "#2a3f5f"
           }
          },
          "ternary": {
           "aaxis": {
            "gridcolor": "white",
            "linecolor": "white",
            "ticks": ""
           },
           "baxis": {
            "gridcolor": "white",
            "linecolor": "white",
            "ticks": ""
           },
           "bgcolor": "#E5ECF6",
           "caxis": {
            "gridcolor": "white",
            "linecolor": "white",
            "ticks": ""
           }
          },
          "title": {
           "x": 0.05
          },
          "xaxis": {
           "automargin": true,
           "gridcolor": "white",
           "linecolor": "white",
           "ticks": "",
           "title": {
            "standoff": 15
           },
           "zerolinecolor": "white",
           "zerolinewidth": 2
          },
          "yaxis": {
           "automargin": true,
           "gridcolor": "white",
           "linecolor": "white",
           "ticks": "",
           "title": {
            "standoff": 15
           },
           "zerolinecolor": "white",
           "zerolinewidth": 2
          }
         }
        },
        "title": {
         "text": "Monitoramento Execução Jobs"
        },
        "width": 1200,
        "xaxis": {
         "anchor": "y",
         "domain": [
          0,
          1
         ],
         "dtick": 1800000,
         "gridcolor": "#DBD3D3",
         "showgrid": true,
         "tickangle": 45,
         "tickformat": "%d/%m/%y %H:%M",
         "ticklabelmode": "instant",
         "type": "date"
        },
        "yaxis": {
         "anchor": "x",
         "autorange": "reversed",
         "domain": [
          0,
          1
         ],
         "gridcolor": "#DBD3D3",
         "showgrid": true,
         "title": {}
        }
       }
      }
     },
     "metadata": {},
     "output_type": "display_data"
    }
   ],
   "source": [
    "import plotly.express as px\n",
    "import pandas as pd\n",
    "\n",
    "import plotly.graph_objects as go\n",
    "\n",
    "# Dados de exemplo\n",
    "data = {\n",
    "    \"job_name\": [\n",
    "        \"Fluxo de Caixa\", \"Fluxo de Caixa\", \"Fluxo de Caixa\",\n",
    "        \"Relatório Financeiro\", \"Relatório Financeiro\", \"Relatório Financeiro\", \"Relatório Financeiro\",\n",
    "        \"Gerenciamento de Estoque\",\n",
    "        \"Resultado de Campanhas\",\n",
    "        \"Monitoramento Metas\",\n",
    "        \"Análise de Vendas\", \"Análise de Vendas\",\n",
    "        \"Auditoria Interna\",\n",
    "        \"Backup Bases\", \"Backup Bases\",       \n",
    "    ],\n",
    "    \"start_time\": [\n",
    "        \"2024-11-08 05:30:00\", \"2024-11-08 08:30:00\", \"2024-11-08 10:30:00\",\n",
    "        \"2024-11-08 06:00:00\", \"2024-11-08 12:00:00\", \"2024-11-08 12:10:00\", \"2024-11-08 16:00:00\",\n",
    "        \"2024-11-08 06:30:00\",\n",
    "        \"2024-11-08 06:30:00\",\n",
    "        \"2024-11-08 11:00:00\",\n",
    "        \"2024-11-08 07:30:00\", \"2024-11-08 15:30:00\",\n",
    "        \"2024-11-08 09:00:00\",\n",
    "        \"2024-11-08 12:30:00\", \"2024-11-08 16:00:00\",        \n",
    "    ],\n",
    "    \"duration_minutes\": [\n",
    "        10, 15, 20,\n",
    "        40, 10, 55, 50,\n",
    "        35,\n",
    "        64,\n",
    "        48,\n",
    "        20, 25,\n",
    "        60,\n",
    "        50, 30        \n",
    "    ],\n",
    "    \"status\": [\n",
    "        \"success\", \"success\", \"success\",\n",
    "        \"success\", \"failed\", \"success\", \"success\",\n",
    "        \"success\",\n",
    "        \"success\",\n",
    "        \"success\",\n",
    "        \"success\", \"success\",\n",
    "        \"success\",\n",
    "        \"success\", \"failed\",        \n",
    "    ]\n",
    "}\n",
    "\n",
    "# Preparação dos dados\n",
    "df = pd.DataFrame(data)\n",
    "df['start_time'] = pd.to_datetime(df['start_time'])\n",
    "df['end_time'] = df['start_time'] + pd.to_timedelta(df['duration_minutes'], unit='m')\n",
    "\n",
    "# Definição de cores para a barra e marcador\n",
    "status_colors= {\n",
    "    \"bar\": {\n",
    "        \"success\": \"#4A628A\",\n",
    "        \"failed\": \"#F95454\"\n",
    "    },\n",
    "    \"marker\": {\n",
    "        \"success\": \"#1A1A1D\",\n",
    "        \"failed\": \"#C62E2E\"        \n",
    "    }\n",
    "}\n",
    "\n",
    "# Gráfico de barras horizontais baseado em timeline\n",
    "fig = px.timeline(df, x_start=\"start_time\", x_end=\"end_time\", y=\"job_name\",  color=\"status\", color_discrete_map=status_colors[\"bar\"],\n",
    "                  title=\"Monitoramento Execução Jobs\",\n",
    "                  labels={\"job_name\": \"Nome do Job\", \"start_time\": \"Hora de Início\", \"end_time\": \"Hora de Término\"},\n",
    "                  height=500, width=1200)\n",
    "\n",
    "# Formatação data no eixo X\n",
    "fig.update_xaxes(tickformat=\"%d/%m/%y %H:%M\", dtick=1800000,  tickangle=45, ticklabelmode=\"instant\", gridcolor=\"#DBD3D3\", showgrid=True)\n",
    "\n",
    "# Formatação do eixo y \n",
    "fig.update_yaxes(autorange=\"reversed\", gridcolor=\"#DBD3D3\", showgrid=True)\n",
    "fig.update_traces(width=0.4)\n",
    "\n",
    "# Inclusão de marcação no horário de execução do job\n",
    "for status, color in status_colors[\"marker\"].items():\n",
    "  fig.add_trace(\n",
    "      go.Scatter(\n",
    "          x=df[df['status'] == status]['start_time'],\n",
    "          y=df[df['status'] == status]['job_name'],\n",
    "          mode='markers',\n",
    "          marker=dict(\n",
    "              color=color, \n",
    "              size=12,\n",
    "              symbol='diamond'\n",
    "          ),\n",
    "          name=status,\n",
    "          showlegend=False \n",
    "      )\n",
    "  )\n",
    "\n",
    "# Alterações finais no layout\n",
    "fig.update_layout(\n",
    "    plot_bgcolor=\"#FAFAFA\",\n",
    "    paper_bgcolor=\"#F5F5F7\",\n",
    "    yaxis_title=None \n",
    ")\n",
    "\n",
    "# Exibir o gráfico\n",
    "fig.show()\n",
    "\n",
    "# Exportar gráfico em html\n",
    "fig.write_html(\"html/index.html\")"
   ]
  }
 ],
 "metadata": {
  "kernelspec": {
   "display_name": "Python 3",
   "language": "python",
   "name": "python3"
  },
  "language_info": {
   "codemirror_mode": {
    "name": "ipython",
    "version": 3
   },
   "file_extension": ".py",
   "mimetype": "text/x-python",
   "name": "python",
   "nbconvert_exporter": "python",
   "pygments_lexer": "ipython3",
   "version": "3.10.8"
  }
 },
 "nbformat": 4,
 "nbformat_minor": 2
}
